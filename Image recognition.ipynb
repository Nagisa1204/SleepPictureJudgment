{
 "cells": [
  {
   "cell_type": "code",
   "execution_count": 2,
   "metadata": {
    "colab": {
     "base_uri": "https://localhost:8080/"
    },
    "executionInfo": {
     "elapsed": 12603,
     "status": "ok",
     "timestamp": 1685499945534,
     "user": {
      "displayName": "江家豪",
      "userId": "16475601080978922920"
     },
     "user_tz": -480
    },
    "id": "cPm09_-PmFA6",
    "outputId": "fcfa0f00-b82f-40c1-d493-68c04483ce33"
   },
   "outputs": [
    {
     "name": "stdout",
     "output_type": "stream",
     "text": [
      "模型文件下載完成並解壓縮。\n"
     ]
    }
   ],
   "source": [
    "import urllib.request\n",
    "\n",
    "# 下載shape_predictor_68_face_landmarks.dat模型文件\n",
    "url = \"http://dlib.net/files/shape_predictor_68_face_landmarks.dat.bz2\"\n",
    "save_path = \"shape_predictor_68_face_landmarks.dat.bz2\"\n",
    "\n",
    "urllib.request.urlretrieve(url, save_path)\n",
    "\n",
    "# 解壓縮模型文件\n",
    "import bz2\n",
    "import shutil\n",
    "\n",
    "uncompressed_path = \"shape_predictor_68_face_landmarks.dat\"\n",
    "\n",
    "with open(uncompressed_path, 'wb') as output, bz2.BZ2File(save_path, 'rb') as input:\n",
    "    shutil.copyfileobj(input, output)\n",
    "\n",
    "# 刪除下載的壓縮文件\n",
    "import os\n",
    "\n",
    "os.remove(save_path)\n",
    "\n",
    "print(\"模型文件下載完成並解壓縮。\")\n"
   ]
  },
  {
   "cell_type": "code",
   "execution_count": 3,
   "metadata": {
    "executionInfo": {
     "elapsed": 4325,
     "status": "ok",
     "timestamp": 1685499960067,
     "user": {
      "displayName": "江家豪",
      "userId": "16475601080978922920"
     },
     "user_tz": -480
    },
    "id": "oSzwJXKv2fy8"
   },
   "outputs": [],
   "source": [
    "import cv2\n",
    "import dlib\n",
    "import math\n",
    "import os\n",
    "\n",
    "# 初始化dlib的人臉偵測器\n",
    "detector = dlib.get_frontal_face_detector()\n",
    "\n",
    "# 初始化dlib的人臉關鍵點偵測器\n",
    "predictor = dlib.shape_predictor(\"shape_predictor_68_face_landmarks.dat\")\n",
    "\n",
    "# 設定眼睛開合程度的閾值\n",
    "THRESHOLD = 0.3\n",
    "\n",
    "# 計算眼睛的開合程度\n",
    "def eye_aspect_ratio(eye_landmarks):\n",
    "    # 計算垂直眼睛關鍵點之間的歐氏距離\n",
    "    vertical_dist1 = math.sqrt((eye_landmarks[1].x - eye_landmarks[5].x) ** 2 + (eye_landmarks[1].y - eye_landmarks[5].y) ** 2)\n",
    "    vertical_dist2 = math.sqrt((eye_landmarks[2].x - eye_landmarks[4].x) ** 2 + (eye_landmarks[2].y - eye_landmarks[4].y) ** 2)\n",
    "    \n",
    "    # 計算水平眼睛關鍵點之間的歐氏距離\n",
    "    horizontal_dist = math.sqrt((eye_landmarks[0].x - eye_landmarks[3].x) ** 2 + (eye_landmarks[0].y - eye_landmarks[3].y) ** 2)\n",
    "    \n",
    "    # 計算眼睛的開合程度\n",
    "    ear = (vertical_dist1 + vertical_dist2) / (2.0 * horizontal_dist)\n",
    "    \n",
    "    return ear\n",
    "\n",
    "# 設定圖片目錄的路徑\n",
    "image_dir = \"/content/drive/MyDrive/Image recognition\"\n",
    "\n",
    "# 設定結果保存目錄的路徑\n",
    "output_dir = \"/content/drive/MyDrive/Image recognition2\"\n",
    "\n",
    "# 建立結果保存目錄\n",
    "os.makedirs(output_dir, exist_ok=True)\n",
    "\n",
    "# 迴圈遍歷圖片目錄中的所有圖片\n",
    "for filename in os.listdir(image_dir):\n",
    "    # 檢查檔案是否為圖片格式\n",
    "    if filename.endswith(\".jpg\") or filename.endswith(\".png\"):\n",
    "        # 讀取影像\n",
    "        image_path = os.path.join(image_dir, filename)\n",
    "        image = cv2.imread(image_path)\n",
    "\n",
    "        # 將影像轉換為灰階\n",
    "        gray = cv2.cvtColor(image, cv2.COLOR_BGR2GRAY)\n",
    "\n",
    "        # 人臉偵測\n",
    "        faces = detector(gray)\n",
    "\n",
    "        # 迭代偵測到的人臉\n",
    "        for face in faces:\n",
    "            # 人臉關鍵點偵測\n",
    "            landmarks = predictor(gray, face)\n",
    "\n",
    "            # 提取左眼和右眼的關鍵點座標\n",
    "            left_eye_landmarks = landmarks.parts()[36:42]  # 左眼關鍵點索引為36-41\n",
    "            right_eye_landmarks = landmarks.parts()[42:48]  # 右眼關鍵點索引為42-47\n",
    "\n",
    "            # 計算眼睛的開合程度\n",
    "            left_eye_aspect_ratio = eye_aspect_ratio(left_eye_landmarks)\n",
    "            right_eye_aspect_ratio = eye_aspect_ratio(right_eye_landmarks)\n",
    "\n",
    "            # 判斷是否為睡覺狀態\n",
    "            if left_eye_aspect_ratio < THRESHOLD and right_eye_aspect_ratio < THRESHOLD:\n",
    "                cv2.putText(image, \"Sleeping\", (10, 30), cv2.FONT_HERSHEY_SIMPLEX, 0.7, (0, 0, 255), 2)\n",
    "            else:\n",
    "                cv2.putText(image, \"Awake\", (10, 30), cv2.FONT_HERSHEY_SIMPLEX, 0.7, (0, 255, 0), 2)\n",
    "\n",
    "        # 儲存結果影像\n",
    "        output_path = os.path.join(output_dir, filename)\n",
    "        cv2.imwrite(output_path, image)\n"
   ]
  }
 ],
 "metadata": {
  "colab": {
   "authorship_tag": "ABX9TyP+W2dlpwYqPC8sq5Kau9rR",
   "mount_file_id": "1A4Me3SLncmk6h5UybxzVsZAtbE7gwQpp",
   "provenance": []
  },
  "kernelspec": {
   "display_name": "Python 3",
   "language": "python",
   "name": "python3"
  },
  "language_info": {
   "codemirror_mode": {
    "name": "ipython",
    "version": 3
   },
   "file_extension": ".py",
   "mimetype": "text/x-python",
   "name": "python",
   "nbconvert_exporter": "python",
   "pygments_lexer": "ipython3",
   "version": "3.8.8"
  }
 },
 "nbformat": 4,
 "nbformat_minor": 1
}
